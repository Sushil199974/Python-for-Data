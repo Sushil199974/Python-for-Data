{
 "cells": [
  {
   "cell_type": "code",
   "execution_count": null,
   "id": "17e21303-5977-4939-8dcf-f7ebb3f929e3",
   "metadata": {
    "id": "17e21303-5977-4939-8dcf-f7ebb3f929e3",
    "outputId": "d26e398a-d8f7-4594-9830-23a8ac2dc115"
   },
   "outputs": [
    {
     "name": "stdout",
     "output_type": "stream",
     "text": [
      "79\n"
     ]
    }
   ],
   "source": [
    "a = 34\n",
    "### 34 is data\n",
    "## a is variable"
   ]
  },
  {
   "cell_type": "code",
   "execution_count": null,
   "id": "0ccf1e1d-6920-41a6-9032-293b4611dc4a",
   "metadata": {
    "id": "0ccf1e1d-6920-41a6-9032-293b4611dc4a",
    "outputId": "1d684fb3-a7d0-45b8-db08-eeab333fdc2e"
   },
   "outputs": [
    {
     "ename": "SyntaxError",
     "evalue": "invalid decimal literal (1245045688.py, line 1)",
     "output_type": "error",
     "traceback": [
      "\u001b[1;36m  Cell \u001b[1;32mIn[2], line 1\u001b[1;36m\u001b[0m\n\u001b[1;33m    1a=56\u001b[0m\n\u001b[1;37m    ^\u001b[0m\n\u001b[1;31mSyntaxError\u001b[0m\u001b[1;31m:\u001b[0m invalid decimal literal\n"
     ]
    }
   ],
   "source": [
    "1a=56"
   ]
  },
  {
   "cell_type": "code",
   "execution_count": null,
   "id": "d860b196-2326-4d40-9aa0-132f5afa4033",
   "metadata": {
    "id": "d860b196-2326-4d40-9aa0-132f5afa4033"
   },
   "outputs": [],
   "source": [
    "a= 45\n",
    "b= 78.97\n",
    "c = True\n",
    "d = \"Hello\""
   ]
  },
  {
   "cell_type": "code",
   "execution_count": null,
   "id": "bc1da17e-dab0-4444-b79b-ebea8d5236a7",
   "metadata": {
    "id": "bc1da17e-dab0-4444-b79b-ebea8d5236a7",
    "outputId": "d56da5cb-4b59-4e67-f5f4-4d2fa98bf431"
   },
   "outputs": [
    {
     "name": "stdout",
     "output_type": "stream",
     "text": [
      "45 78.97 True Hello\n"
     ]
    }
   ],
   "source": [
    "print(a,b,c,d)"
   ]
  },
  {
   "cell_type": "code",
   "execution_count": null,
   "id": "78a1a98f-48cd-4e0a-9969-c83f496c1ac4",
   "metadata": {
    "id": "78a1a98f-48cd-4e0a-9969-c83f496c1ac4",
    "outputId": "a5f02297-4122-442b-9eda-a346da059ef3"
   },
   "outputs": [
    {
     "data": {
      "text/plain": [
       "int"
      ]
     },
     "execution_count": 5,
     "metadata": {},
     "output_type": "execute_result"
    }
   ],
   "source": [
    "### type(variablename)\n",
    "type(a)\n"
   ]
  },
  {
   "cell_type": "code",
   "execution_count": null,
   "id": "64e87172-e8cb-4603-b960-4fff5bc7ce43",
   "metadata": {
    "id": "64e87172-e8cb-4603-b960-4fff5bc7ce43",
    "outputId": "2f929e60-e090-43b6-f714-00a794084c19"
   },
   "outputs": [
    {
     "data": {
      "text/plain": [
       "float"
      ]
     },
     "execution_count": 6,
     "metadata": {},
     "output_type": "execute_result"
    }
   ],
   "source": [
    "type(b)"
   ]
  },
  {
   "cell_type": "code",
   "execution_count": null,
   "id": "e272a33d-35a4-4e55-9c0e-96c6fbb86c36",
   "metadata": {
    "id": "e272a33d-35a4-4e55-9c0e-96c6fbb86c36",
    "outputId": "2a22ec13-a72a-4d93-d0d7-a3bc2885ef08"
   },
   "outputs": [
    {
     "data": {
      "text/plain": [
       "bool"
      ]
     },
     "execution_count": 7,
     "metadata": {},
     "output_type": "execute_result"
    }
   ],
   "source": [
    "type(c)"
   ]
  },
  {
   "cell_type": "code",
   "execution_count": null,
   "id": "5d2caf54-e589-454f-8714-bc14bf1207fb",
   "metadata": {
    "id": "5d2caf54-e589-454f-8714-bc14bf1207fb",
    "outputId": "db0588cc-b2f0-4187-b871-f05a2d162151"
   },
   "outputs": [
    {
     "data": {
      "text/plain": [
       "str"
      ]
     },
     "execution_count": 8,
     "metadata": {},
     "output_type": "execute_result"
    }
   ],
   "source": [
    "type(d)"
   ]
  },
  {
   "cell_type": "code",
   "execution_count": null,
   "id": "b9bc746f-cde4-4b8f-bf10-8bf6d9d893e3",
   "metadata": {
    "id": "b9bc746f-cde4-4b8f-bf10-8bf6d9d893e3",
    "outputId": "004ffe3f-e526-445d-99ae-eae291cee9e5"
   },
   "outputs": [
    {
     "name": "stdout",
     "output_type": "stream",
     "text": [
      "hello world\n"
     ]
    }
   ],
   "source": [
    "### print hello world\n",
    "c=\"hello world\"\n",
    "print(c)"
   ]
  },
  {
   "cell_type": "code",
   "execution_count": null,
   "id": "a4ec404c-eed8-4178-b7f6-be9ab158a952",
   "metadata": {
    "id": "a4ec404c-eed8-4178-b7f6-be9ab158a952",
    "outputId": "7c646712-7417-41e8-a5e1-9246138b6a74"
   },
   "outputs": [
    {
     "name": "stdout",
     "output_type": "stream",
     "text": [
      "sum of a,b is 8\n",
      "substraction of a,b is 2\n",
      "multiplication of a,b is 15\n",
      "division of a,b is 1.6666666666666667\n"
     ]
    }
   ],
   "source": [
    "### take 2 numbers ### apply arithmatic ops on that?\n",
    "a= 5\n",
    "b= 3\n",
    "\n",
    "x1= a+b\n",
    "x2= a-b\n",
    "x3= a*b\n",
    "x4= a/b\n",
    "\n",
    "print(\"sum of a,b is\", x1)\n",
    "print(\"substraction of a,b is\", x2)\n",
    "print(\"multiplication of a,b is\", x3)\n",
    "print(\"division of a,b is\", x4)"
   ]
  },
  {
   "cell_type": "code",
   "execution_count": null,
   "id": "308593d5-89f3-41d5-a82c-bc28fb75d84b",
   "metadata": {
    "id": "308593d5-89f3-41d5-a82c-bc28fb75d84b",
    "outputId": "48a6b08e-851f-4bd5-f4f9-3dd64d4c1fde"
   },
   "outputs": [
    {
     "name": "stdout",
     "output_type": "stream",
     "text": [
      "sum of a,b is 8\n",
      "substraction of a,b is 2\n",
      "division of a,b is 1.6666666666666667\n"
     ]
    }
   ],
   "source": [
    "a= 5\n",
    "b= 3\n",
    "\n",
    "x1= a+b\n",
    "x2= a-b\n",
    "#x3= a*b\n",
    "x4= a/b\n",
    "\n",
    "print(\"sum of a,b is\", x1)\n",
    "print(\"substraction of a,b is\", x2)\n",
    "#print(\"multiplication of a,b is\", x3)\n",
    "print(\"division of a,b is\", x4)"
   ]
  },
  {
   "cell_type": "code",
   "execution_count": null,
   "id": "e40497c0-45b0-43d3-9242-de7647c1a0c1",
   "metadata": {
    "id": "e40497c0-45b0-43d3-9242-de7647c1a0c1",
    "outputId": "cbfef702-2233-43a3-c570-87cb028ebd0a"
   },
   "outputs": [
    {
     "name": "stdout",
     "output_type": "stream",
     "text": [
      "The value of a is = 20\n",
      "The value of a is = 30\n",
      "The value of a is = 40\n"
     ]
    }
   ],
   "source": [
    "### To Initialize different variables in the same line\n",
    "a,b,c = 20,30,40\n",
    "print(\"The value of a is =\",a)\n",
    "print(\"The value of a is =\",b)\n",
    "print(\"The value of a is =\",c)"
   ]
  },
  {
   "cell_type": "code",
   "execution_count": 4,
   "id": "8c61df1f-5a07-4e71-bfca-a4042c5259ff",
   "metadata": {
    "id": "8c61df1f-5a07-4e71-bfca-a4042c5259ff",
    "outputId": "2ff0fc6f-9886-49c1-8a9b-babcc9d5d243"
   },
   "outputs": [
    {
     "ename": "ValueError",
     "evalue": "not enough values to unpack (expected 3, got 2)",
     "output_type": "error",
     "traceback": [
      "\u001b[1;31m---------------------------------------------------------------------------\u001b[0m",
      "\u001b[1;31mValueError\u001b[0m                                Traceback (most recent call last)",
      "Cell \u001b[1;32mIn[4], line 2\u001b[0m\n\u001b[0;32m      1\u001b[0m \u001b[38;5;66;03m### To Initialize different variables in the same line\u001b[39;00m\n\u001b[1;32m----> 2\u001b[0m a,b,c \u001b[38;5;241m=\u001b[39m \u001b[38;5;241m20\u001b[39m,\u001b[38;5;241m30\u001b[39m,\n\u001b[0;32m      3\u001b[0m \u001b[38;5;28mprint\u001b[39m(\u001b[38;5;124m\"\u001b[39m\u001b[38;5;124mThe value of a is =\u001b[39m\u001b[38;5;124m\"\u001b[39m,a)\n\u001b[0;32m      4\u001b[0m \u001b[38;5;28mprint\u001b[39m(\u001b[38;5;124m\"\u001b[39m\u001b[38;5;124mThe value of a is =\u001b[39m\u001b[38;5;124m\"\u001b[39m,b)\n",
      "\u001b[1;31mValueError\u001b[0m: not enough values to unpack (expected 3, got 2)"
     ]
    }
   ],
   "source": [
    "### To Initialize different variables in the same line\n",
    "a,b,c = 20,30,\n",
    "print(\"The value of a is =\",a)\n",
    "print(\"The value of a is =\",b)\n",
    "print(\"The value of a is =\",c)"
   ]
  },
  {
   "cell_type": "code",
   "execution_count": 10,
   "id": "6d66f9a4-1891-40ed-810b-e5af829b250e",
   "metadata": {
    "id": "6d66f9a4-1891-40ed-810b-e5af829b250e",
    "outputId": "95a0a06e-3626-4aa7-f076-cc631043c970"
   },
   "outputs": [
    {
     "name": "stdout",
     "output_type": "stream",
     "text": [
      "The value of a is = 20\n",
      "The value of a is = 30\n"
     ]
    },
    {
     "ename": "NameError",
     "evalue": "name 'e' is not defined",
     "output_type": "error",
     "traceback": [
      "\u001b[1;31m---------------------------------------------------------------------------\u001b[0m",
      "\u001b[1;31mNameError\u001b[0m                                 Traceback (most recent call last)",
      "Cell \u001b[1;32mIn[10], line 5\u001b[0m\n\u001b[0;32m      3\u001b[0m \u001b[38;5;28mprint\u001b[39m(\u001b[38;5;124m\"\u001b[39m\u001b[38;5;124mThe value of a is =\u001b[39m\u001b[38;5;124m\"\u001b[39m,a)\n\u001b[0;32m      4\u001b[0m \u001b[38;5;28mprint\u001b[39m(\u001b[38;5;124m\"\u001b[39m\u001b[38;5;124mThe value of a is =\u001b[39m\u001b[38;5;124m\"\u001b[39m,b)\n\u001b[1;32m----> 5\u001b[0m \u001b[38;5;28mprint\u001b[39m(\u001b[38;5;124m\"\u001b[39m\u001b[38;5;124mThe value of c is =\u001b[39m\u001b[38;5;124m\"\u001b[39m,\u001b[43me\u001b[49m)\n",
      "\u001b[1;31mNameError\u001b[0m: name 'e' is not defined"
     ]
    }
   ],
   "source": [
    "### To Initialize different variables in the same line\n",
    "a,b = 20,30\n",
    "print(\"The value of a is =\",a)\n",
    "print(\"The value of a is =\",b)\n",
    "print(\"The value of c is =\",e)"
   ]
  },
  {
   "cell_type": "code",
   "execution_count": null,
   "id": "960cc1e6-cbaa-483d-8b1b-9d942fe2bb34",
   "metadata": {
    "id": "960cc1e6-cbaa-483d-8b1b-9d942fe2bb34"
   },
   "outputs": [],
   "source": [
    "#### Initializing different variables with same value\n",
    "a=b=c=35"
   ]
  },
  {
   "cell_type": "code",
   "execution_count": null,
   "id": "804c0baf-715f-4fe1-8e48-91bc8db428b0",
   "metadata": {
    "id": "804c0baf-715f-4fe1-8e48-91bc8db428b0",
    "outputId": "98bd90ac-36f3-40ae-e26a-e112364efead"
   },
   "outputs": [
    {
     "data": {
      "text/plain": [
       "35"
      ]
     },
     "execution_count": 18,
     "metadata": {},
     "output_type": "execute_result"
    }
   ],
   "source": [
    "a"
   ]
  },
  {
   "cell_type": "code",
   "execution_count": null,
   "id": "1be67a18-a2ed-41ca-80b9-c224add9c7fe",
   "metadata": {
    "id": "1be67a18-a2ed-41ca-80b9-c224add9c7fe",
    "outputId": "2a0897c9-421b-409c-e8d3-82b7efa656b4"
   },
   "outputs": [
    {
     "data": {
      "text/plain": [
       "35"
      ]
     },
     "execution_count": 19,
     "metadata": {},
     "output_type": "execute_result"
    }
   ],
   "source": [
    "b"
   ]
  },
  {
   "cell_type": "code",
   "execution_count": null,
   "id": "d2e50f56-896f-4bc9-95d1-96e1aaa20894",
   "metadata": {
    "id": "d2e50f56-896f-4bc9-95d1-96e1aaa20894",
    "outputId": "00cbbc6e-8cc5-461d-c52d-1283eb8cae31"
   },
   "outputs": [
    {
     "data": {
      "text/plain": [
       "35"
      ]
     },
     "execution_count": 20,
     "metadata": {},
     "output_type": "execute_result"
    }
   ],
   "source": [
    "c"
   ]
  },
  {
   "cell_type": "code",
   "execution_count": null,
   "id": "29bdf73f-25c0-4fd7-b8d6-905a34ba7527",
   "metadata": {
    "id": "29bdf73f-25c0-4fd7-b8d6-905a34ba7527",
    "outputId": "33dc8f1c-526a-41c5-a8f1-723738f4427c"
   },
   "outputs": [
    {
     "name": "stdout",
     "output_type": "stream",
     "text": [
      "Welcome to Python\n"
     ]
    }
   ],
   "source": [
    "print(\"Welcome to Python\")"
   ]
  },
  {
   "cell_type": "code",
   "execution_count": null,
   "id": "1e3f78a0-31de-4408-9d96-c1c702b06840",
   "metadata": {
    "id": "1e3f78a0-31de-4408-9d96-c1c702b06840",
    "outputId": "153a5a94-7b87-432b-b4cb-2212763fb6a3"
   },
   "outputs": [
    {
     "ename": "IndentationError",
     "evalue": "unexpected indent (1108906679.py, line 2)",
     "output_type": "error",
     "traceback": [
      "\u001b[1;36m  Cell \u001b[1;32mIn[22], line 2\u001b[1;36m\u001b[0m\n\u001b[1;33m    print(\"Python is fun\")\u001b[0m\n\u001b[1;37m    ^\u001b[0m\n\u001b[1;31mIndentationError\u001b[0m\u001b[1;31m:\u001b[0m unexpected indent\n"
     ]
    }
   ],
   "source": [
    "print(\"Welcome to Python\")\n",
    "  print(\"Python is fun\")"
   ]
  },
  {
   "cell_type": "code",
   "execution_count": null,
   "id": "0ca0869d-6dad-406f-ac3e-b7095dc5d5ba",
   "metadata": {
    "id": "0ca0869d-6dad-406f-ac3e-b7095dc5d5ba",
    "outputId": "1d433d7e-806b-4ca7-a285-5c16d5ede69a"
   },
   "outputs": [
    {
     "name": "stdout",
     "output_type": "stream",
     "text": [
      "Welcome to Python\n",
      "Python is fun\n"
     ]
    }
   ],
   "source": [
    "print(\"Welcome to Python\")\n",
    "print(\"Python is fun\")"
   ]
  },
  {
   "cell_type": "code",
   "execution_count": null,
   "id": "e803f285-6747-4faa-b91d-5aca413faf85",
   "metadata": {
    "id": "e803f285-6747-4faa-b91d-5aca413faf85",
    "outputId": "1560597e-9fd4-4b60-d0c5-1e4bc652d0c7"
   },
   "outputs": [
    {
     "ename": "IndentationError",
     "evalue": "unexpected indent (1456687820.py, line 2)",
     "output_type": "error",
     "traceback": [
      "\u001b[1;36m  Cell \u001b[1;32mIn[24], line 2\u001b[1;36m\u001b[0m\n\u001b[1;33m    print(\"Python is fun\")\u001b[0m\n\u001b[1;37m    ^\u001b[0m\n\u001b[1;31mIndentationError\u001b[0m\u001b[1;31m:\u001b[0m unexpected indent\n"
     ]
    }
   ],
   "source": [
    "print(\"Welcome to Python\")\n",
    " print(\"Python is fun\")"
   ]
  },
  {
   "cell_type": "code",
   "execution_count": null,
   "id": "fdb314d3-fe79-4a7e-84a9-f8ca55417e65",
   "metadata": {
    "id": "fdb314d3-fe79-4a7e-84a9-f8ca55417e65",
    "outputId": "5679ee2f-7a36-41e3-cdf9-a8806f9e094d"
   },
   "outputs": [
    {
     "ename": "SyntaxError",
     "evalue": "invalid syntax (1404456878.py, line 1)",
     "output_type": "error",
     "traceback": [
      "\u001b[1;36m  Cell \u001b[1;32mIn[25], line 1\u001b[1;36m\u001b[0m\n\u001b[1;33m    print(\"Welcome to Python\")print(\"Python is fun\")\u001b[0m\n\u001b[1;37m                              ^\u001b[0m\n\u001b[1;31mSyntaxError\u001b[0m\u001b[1;31m:\u001b[0m invalid syntax\n"
     ]
    }
   ],
   "source": [
    "print(\"Welcome to Python\")print(\"Python is fun\")"
   ]
  },
  {
   "cell_type": "code",
   "execution_count": null,
   "id": "2d15295e-2082-415d-9d9d-0f8535968e51",
   "metadata": {
    "id": "2d15295e-2082-415d-9d9d-0f8535968e51",
    "outputId": "6fadfddd-f8d1-4dfd-97bb-b7ed2c472425"
   },
   "outputs": [
    {
     "name": "stdout",
     "output_type": "stream",
     "text": [
      "Welcome to Python\n",
      "Python is fun\n"
     ]
    },
    {
     "data": {
      "text/plain": [
       "(None, None)"
      ]
     },
     "execution_count": 26,
     "metadata": {},
     "output_type": "execute_result"
    }
   ],
   "source": [
    "print(\"Welcome to Python\"),print(\"Python is fun\")"
   ]
  },
  {
   "cell_type": "code",
   "execution_count": null,
   "id": "efa5fcdb-6506-4b90-bd5b-a3f399504ceb",
   "metadata": {
    "id": "efa5fcdb-6506-4b90-bd5b-a3f399504ceb",
    "outputId": "73f0596e-554c-467c-a37c-44685dc353aa"
   },
   "outputs": [
    {
     "name": "stdout",
     "output_type": "stream",
     "text": [
      "Welcome to Python\n"
     ]
    },
    {
     "ename": "AttributeError",
     "evalue": "'NoneType' object has no attribute 'print'",
     "output_type": "error",
     "traceback": [
      "\u001b[1;31m---------------------------------------------------------------------------\u001b[0m",
      "\u001b[1;31mAttributeError\u001b[0m                            Traceback (most recent call last)",
      "Cell \u001b[1;32mIn[27], line 1\u001b[0m\n\u001b[1;32m----> 1\u001b[0m \u001b[38;5;28mprint\u001b[39m(\u001b[38;5;124m\"\u001b[39m\u001b[38;5;124mWelcome to Python\u001b[39m\u001b[38;5;124m\"\u001b[39m)\u001b[38;5;241m.\u001b[39mprint(\u001b[38;5;124m\"\u001b[39m\u001b[38;5;124mPython is fun\u001b[39m\u001b[38;5;124m\"\u001b[39m)\n",
      "\u001b[1;31mAttributeError\u001b[0m: 'NoneType' object has no attribute 'print'"
     ]
    }
   ],
   "source": [
    "print(\"Welcome to Python\").print(\"Python is fun\")"
   ]
  },
  {
   "cell_type": "code",
   "execution_count": null,
   "id": "cbc92d46-5c82-4737-a6b0-7b359ebd6f74",
   "metadata": {
    "id": "cbc92d46-5c82-4737-a6b0-7b359ebd6f74",
    "outputId": "1b93326c-4f0f-461d-841f-c3e3c50b8946"
   },
   "outputs": [
    {
     "name": "stdout",
     "output_type": "stream",
     "text": [
      "Welcome to Python\n",
      "Python is fun\n"
     ]
    }
   ],
   "source": [
    "print(\"Welcome to Python\");print(\"Python is fun\")"
   ]
  },
  {
   "cell_type": "code",
   "execution_count": null,
   "id": "f3557984-ee4a-4ed8-9400-139d2090c744",
   "metadata": {
    "id": "f3557984-ee4a-4ed8-9400-139d2090c744",
    "outputId": "69cf3bb0-8822-4e12-e827-f695dd556db9"
   },
   "outputs": [
    {
     "name": "stdout",
     "output_type": "stream",
     "text": [
      "Hello World\n",
      "Welcome to Python\n"
     ]
    },
    {
     "ename": "NameError",
     "evalue": "name 'Print' is not defined",
     "output_type": "error",
     "traceback": [
      "\u001b[1;31m---------------------------------------------------------------------------\u001b[0m",
      "\u001b[1;31mNameError\u001b[0m                                 Traceback (most recent call last)",
      "Cell \u001b[1;32mIn[29], line 10\u001b[0m\n\u001b[0;32m      8\u001b[0m \u001b[38;5;28mprint\u001b[39m(\u001b[38;5;124m\"\u001b[39m\u001b[38;5;124mHello World\u001b[39m\u001b[38;5;124m\"\u001b[39m)\n\u001b[0;32m      9\u001b[0m \u001b[38;5;28mprint\u001b[39m(\u001b[38;5;124m\"\u001b[39m\u001b[38;5;124mWelcome to Python\u001b[39m\u001b[38;5;124m\"\u001b[39m)\n\u001b[1;32m---> 10\u001b[0m Print(\u001b[38;5;124m\"\u001b[39m\u001b[38;5;124mPython is fun\u001b[39m\u001b[38;5;124m\"\u001b[39m)\n\u001b[0;32m     11\u001b[0m \u001b[38;5;28mprint\u001b[39m(\u001b[38;5;124m\"\u001b[39m\u001b[38;5;124mBasics of Python\u001b[39m\u001b[38;5;124m\"\u001b[39m)\n",
      "\u001b[1;31mNameError\u001b[0m: name 'Print' is not defined"
     ]
    }
   ],
   "source": [
    "### If User wants to comment multiple lines ?\n",
    "### Use Double Quotes\n",
    "\"\"\"\n",
    "Paragraph comment starts and ends with three\n",
    "Cosecutive single quotes(''') or\n",
    "three consecutive double quotes\n",
    "\"\"\"\n",
    "print(\"Hello World\")\n",
    "print(\"Welcome to Python\")\n",
    "Print(\"Python is fun\")\n",
    "print(\"Basics of Python\")"
   ]
  },
  {
   "cell_type": "code",
   "execution_count": null,
   "id": "83416df8-873f-4cf9-95a8-a025789f9b43",
   "metadata": {
    "id": "83416df8-873f-4cf9-95a8-a025789f9b43"
   },
   "outputs": [],
   "source": []
  },
  {
   "cell_type": "code",
   "execution_count": null,
   "id": "20dc3922-a5fc-4326-880a-732314d17452",
   "metadata": {
    "id": "20dc3922-a5fc-4326-880a-732314d17452"
   },
   "outputs": [],
   "source": []
  },
  {
   "cell_type": "code",
   "execution_count": null,
   "id": "7203675d-892d-4cdd-9eb0-9b6170be3916",
   "metadata": {
    "id": "7203675d-892d-4cdd-9eb0-9b6170be3916",
    "outputId": "941092c4-24ee-4b75-9a60-c7d1ac3a7ea5"
   },
   "outputs": [
    {
     "name": "stdout",
     "output_type": "stream",
     "text": [
      "Hello World\n",
      "Welcome to Python\n",
      "Python is fun\n",
      "Basics of Python\n"
     ]
    }
   ],
   "source": [
    "\"\"\"\n",
    "Paragraph comment starts and ends with three\n",
    "Cosecutive single quotes(''') or\n",
    "three consecutive double quotes\n",
    "\"\"\"\n",
    "print(\"Hello World\")\n",
    "print(\"Welcome to Python\")\n",
    "print(\"Python is fun\")\n",
    "print(\"Basics of Python\")"
   ]
  },
  {
   "cell_type": "code",
   "execution_count": null,
   "id": "fc59e925-887f-46ea-93a8-3a032a70ddc5",
   "metadata": {
    "id": "fc59e925-887f-46ea-93a8-3a032a70ddc5",
    "outputId": "8ab1af2f-7eb2-48e7-e119-c3588946a49f"
   },
   "outputs": [
    {
     "name": "stdout",
     "output_type": "stream",
     "text": [
      "Hello World\n",
      "Welcome to Python\n",
      "Python is fun\n",
      "Basics of Python\n"
     ]
    }
   ],
   "source": [
    "\"\"\"\n",
    "Paragraph comment starts and ends with three\n",
    "Cosecutive single quotes(''') or\n",
    "three consecutive double quotes\n",
    "\"\"\"\n",
    "print(\"Hello World\")\n",
    "print(\"Welcome to Python\")\n",
    "\"\"\"\n",
    "Paragraph comment starts and ends with three\n",
    "Cosecutive single quotes(''') or\n",
    "three consecutive double quotes\n",
    "\"\"\"\n",
    "print(\"Python is fun\")\n",
    "print(\"Basics of Python\")"
   ]
  },
  {
   "cell_type": "code",
   "execution_count": null,
   "id": "d8fdf90d-6ecb-40cf-91a6-0255c5ace0ed",
   "metadata": {
    "id": "d8fdf90d-6ecb-40cf-91a6-0255c5ace0ed",
    "outputId": "75bc9c27-8a38-42e3-e1cf-c1a11ff096c3"
   },
   "outputs": [
    {
     "name": "stdout",
     "output_type": "stream",
     "text": [
      "['False', 'None', 'True', 'and', 'as', 'assert', 'async', 'await', 'break', 'class', 'continue', 'def', 'del', 'elif', 'else', 'except', 'finally', 'for', 'from', 'global', 'if', 'import', 'in', 'is', 'lambda', 'nonlocal', 'not', 'or', 'pass', 'raise', 'return', 'try', 'while', 'with', 'yield']\n",
      "Total Number of Keywords 35\n"
     ]
    }
   ],
   "source": [
    "import keyword\n",
    "print(keyword.kwlist)\n",
    "print(\"Total Number of Keywords\",len(keyword.kwlist))"
   ]
  },
  {
   "cell_type": "code",
   "execution_count": null,
   "id": "66d3d795-0a44-4d79-974a-a730c6141bff",
   "metadata": {
    "id": "66d3d795-0a44-4d79-974a-a730c6141bff"
   },
   "outputs": [],
   "source": []
  },
  {
   "cell_type": "code",
   "execution_count": null,
   "id": "b02cd379-87fa-4fd4-a1bd-9b3984003275",
   "metadata": {
    "id": "b02cd379-87fa-4fd4-a1bd-9b3984003275"
   },
   "outputs": [],
   "source": []
  },
  {
   "cell_type": "code",
   "execution_count": null,
   "id": "248b2593-f2e4-4aa3-ab07-7aa85447e539",
   "metadata": {
    "id": "248b2593-f2e4-4aa3-ab07-7aa85447e539"
   },
   "outputs": [],
   "source": []
  }
 ],
 "metadata": {
  "colab": {
   "provenance": []
  },
  "kernelspec": {
   "display_name": "Python 3 (ipykernel)",
   "language": "python",
   "name": "python3"
  },
  "language_info": {
   "codemirror_mode": {
    "name": "ipython",
    "version": 3
   },
   "file_extension": ".py",
   "mimetype": "text/x-python",
   "name": "python",
   "nbconvert_exporter": "python",
   "pygments_lexer": "ipython3",
   "version": "3.12.7"
  }
 },
 "nbformat": 4,
 "nbformat_minor": 5
}
